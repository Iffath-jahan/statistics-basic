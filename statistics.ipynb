{
 "cells": [
  {
   "cell_type": "raw",
   "id": "7441dc7b-f145-465e-bf1e-95dd026aa002",
   "metadata": {},
   "source": [
    "## Assignment 1:\n",
    "1. what kind of variable marital status is: Nominal data\n",
    "2. what kind of variable nile river length is :continues data\n",
    "3 what kind of movie duration is: quantitative data\n",
    "## Assignment 2:\n",
    "\n",
    "1. length of different rivers in the world: Internal scale data\n",
    "2. martial status: nominal scale data\n",
    "3. Iq  measurement: ordinal scale data\n",
    "\n",
    "Q1. What is Statistics\n",
    "Ans: statistics is the science of collecting ,organizing,and \n",
    "Analyzing data\n",
    "\n",
    "Q2. Define the different types of statistics and give an example of when each type might be used.\n",
    "Ans: 1. Descriptive statistics: it consist of organizing and summarizing the data. ex: age=12,34,50,90,67\n",
    "2. Inferential statistics: it consist of using data  you have measures to form conculsion ex: grades of students in classroom\n",
    "\n",
    "Q4. Categorise the following datasets with respect to quantitative and qualitative data types:\n",
    "\n",
    "(i) Grading in exam: A+, A, B+, B, C+, C, D, E: qualitative data\n",
    "(ii) Colour of mangoes: yellow, green, orange, red: qualitative data\n",
    "(iii) Height data of a class: [178.9, 179, 179.5, 176, 177.2, 178.3, 175.8,...]: quantitative data\n",
    "(iv) Number of mangoes exported by a farm: [500, 600, 478, 672, ...]: quantitative data\n",
    "\n",
    "Q5. Explain the concept of levels of measurement and give an example of a variable for each level.\n",
    "Ans: 1.nominal scale data: it contains categorical data.\n",
    "ex: gender, colors\n",
    "2. ordinal scale data: ranking and order matters and difference cannot be measured. Ex:qualifications phd, Be, masters, bsc\n",
    "3.internal scale data:ranking and order matters and difference be measured (excluding ratio ) and doesn’t have 0 starting value. ex: temperature 30f,45f,89,39f\n",
    "4.Ratio scale data: ranking and order matters and difference and  ratio measured  and it have 0 starting value. Ex: 100, 34, 67,78 grades\n",
    "\n",
    "Q6. Why is it important to understand the level of measurement when analyzing data? Provide an\n",
    "example to illustrate your answer\n",
    "ans: it important to understand the level of measurement when analyzing data because it determines the statistical methods and \n",
    "tests that can be used to summarize and interpret the data, different level of measurements have different characteristics and properities\n",
    "##"
   ]
  },
  {
   "cell_type": "raw",
   "id": "503b72e3-db8b-41da-805b-0fbb70d8a9eb",
   "metadata": {},
   "source": [
    "## \n",
    "Q7. How nominal data type is different from ordinal data type\n",
    "ans :nominal data is an categorical data where ordinal has ordering or rank"
   ]
  },
  {
   "cell_type": "raw",
   "id": "91d409f8-e316-4a53-8b60-3fde88b91424",
   "metadata": {},
   "source": [
    "## Which type of plot can be used to display data in terms of range?\n",
    "ans:A range plot can be used to display data in terms of range. A range plot shows exactly two dots on a line and connects them with an extra bold line. It is great if you want to draw attention to the distance between the values more\n",
    "than to the values themselves. You could also call this chart type the gap chart because it’s great for situations where the gap is important (e.g. gender gap)\n",
    "    "
   ]
  },
  {
   "cell_type": "raw",
   "id": "4a1e465d-3c63-4c8e-b18d-c0c2e5143ea6",
   "metadata": {},
   "source": [
    "##\n",
    "Q9. Describe the difference between descriptive and inferential statistics. Give an example of eachtype of statistics and explain how they are used.\n",
    "ans:descripitive sat- it  contains the organizing ana summarize the data\n",
    "it can be achived with the help of charts ,graphics\n",
    "ex:height of the students in class\n",
    "inferential sat-it consist of using data measure to form conclusion\n",
    "it can be achived by probability\n",
    "ex:the height of student in classroom similar to what you except in the entire college \n",
    "    "
   ]
  },
  {
   "cell_type": "raw",
   "id": "4453cee0-8d81-438b-9f54-4013f3769c65",
   "metadata": {},
   "source": [
    "##\n",
    "Q10. What are some common measures of central tendency and variability used in statistics? Explainhow each measure can be used to describe a dataset.\n",
    "1.Mean: The mean is the average of all the values in a dataset\n",
    "2.Median: The median is the middle value in a dataset when the values are arranged in order.\n",
    "3.Mode: The mode is the value that occurs most frequently in a dataset.\n",
    "4.Range: The range is the difference between the largest and smallest values in a dataset\n",
    "5.Variance: The variance is a measure of how spread out the data is from the mean. \n",
    "6.Standard deviation: The standard deviation is another measure of how spread out the data is from the mean. It is calculated by taking the square root of the variance\n",
    "\n"
   ]
  }
 ],
 "metadata": {
  "kernelspec": {
   "display_name": "Python 3 (ipykernel)",
   "language": "python",
   "name": "python3"
  },
  "language_info": {
   "codemirror_mode": {
    "name": "ipython",
    "version": 3
   },
   "file_extension": ".py",
   "mimetype": "text/x-python",
   "name": "python",
   "nbconvert_exporter": "python",
   "pygments_lexer": "ipython3",
   "version": "3.10.8"
  }
 },
 "nbformat": 4,
 "nbformat_minor": 5
}
